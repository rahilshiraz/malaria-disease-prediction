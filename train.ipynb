{
  "nbformat": 4,
  "nbformat_minor": 0,
  "metadata": {
    "colab": {
      "name": "malariadetection.ipynb",
      "provenance": []
    },
    "kernelspec": {
      "name": "python3",
      "display_name": "Python 3"
    },
    "accelerator": "GPU"
  },
  "cells": [
    {
      "cell_type": "code",
      "metadata": {
        "id": "gke8zK93Fvlp",
        "colab_type": "code",
        "colab": {}
      },
      "source": [
        "#importing the libraries\n",
        "\n",
        "from tensorflow.keras.layers import Input,Dense,Conv2D,Lambda,Flatten\n",
        "from tensorflow.keras.models import Model\n",
        "from tensorflow.keras.applications.mobilenet import MobileNet\n",
        "from tensorflow.keras.applications.resnet50 import preprocess_input\n",
        "from tensorflow.keras.preprocessing import image\n",
        "from tensorflow.keras.preprocessing.image import ImageDataGenerator, load_img\n",
        "from tensorflow.keras.models import Sequential\n",
        "import numpy as np\n",
        "from glob import glob\n",
        "import matplotlib.pyplot as plt"
      ],
      "execution_count": 115,
      "outputs": []
    },
    {
      "cell_type": "code",
      "metadata": {
        "id": "vB-w6gfdF4xo",
        "colab_type": "code",
        "colab": {}
      },
      "source": [
        "#resize all images to this\n",
        "image_size = [224,224]\n",
        "\n",
        "train_path = r'/content/drive/My Drive/malariadataset/Train'\n",
        "valid_path = r'/content/drive/My Drive/malariadataset/Test'"
      ],
      "execution_count": 116,
      "outputs": []
    },
    {
      "cell_type": "code",
      "metadata": {
        "id": "zPqGwSnjF5Ub",
        "colab_type": "code",
        "colab": {}
      },
      "source": [
        "mobilenet = MobileNet(include_top=False, weights='imagenet',input_shape=image_size+[3])\n",
        "\n",
        "#dont train existing weights\n",
        "for layer in mobilenet.layers:\n",
        "  layer.trainable = False"
      ],
      "execution_count": 117,
      "outputs": []
    },
    {
      "cell_type": "code",
      "metadata": {
        "id": "tS5-ClZTGcSH",
        "colab_type": "code",
        "colab": {}
      },
      "source": [
        "#useful for getting number of output classes\n",
        "folders = glob('/content/drive/My Drive/malariadataset/Train/*')"
      ],
      "execution_count": 118,
      "outputs": []
    },
    {
      "cell_type": "code",
      "metadata": {
        "id": "vbMOxAORGrYO",
        "colab_type": "code",
        "colab": {
          "base_uri": "https://localhost:8080/",
          "height": 68
        },
        "outputId": "b57aac62-01db-4c96-e1a3-c1433257a6ea"
      },
      "source": [
        "folders, len(folders)"
      ],
      "execution_count": 119,
      "outputs": [
        {
          "output_type": "execute_result",
          "data": {
            "text/plain": [
              "(['/content/drive/My Drive/malariadataset/Train/Uninfected',\n",
              "  '/content/drive/My Drive/malariadataset/Train/Parasite'],\n",
              " 2)"
            ]
          },
          "metadata": {
            "tags": []
          },
          "execution_count": 119
        }
      ]
    },
    {
      "cell_type": "code",
      "metadata": {
        "id": "fYcRBmoEGsCA",
        "colab_type": "code",
        "colab": {}
      },
      "source": [
        "x = Flatten()(mobilenet.output)"
      ],
      "execution_count": 120,
      "outputs": []
    },
    {
      "cell_type": "code",
      "metadata": {
        "id": "6kRBYHutHfyQ",
        "colab_type": "code",
        "colab": {}
      },
      "source": [
        "prediction = Dense(len(folders), activation='softmax')(x)\n",
        "\n",
        "#create a model object\n",
        "model = Model(inputs=mobilenet.input, outputs=prediction)"
      ],
      "execution_count": 129,
      "outputs": []
    },
    {
      "cell_type": "code",
      "metadata": {
        "id": "nFVXC0dgIDSE",
        "colab_type": "code",
        "colab": {
          "base_uri": "https://localhost:8080/",
          "height": 1000
        },
        "outputId": "81805217-da19-4d6c-e256-101e2ec7f031"
      },
      "source": [
        "model.summary()"
      ],
      "execution_count": 130,
      "outputs": [
        {
          "output_type": "stream",
          "text": [
            "Model: \"model_4\"\n",
            "_________________________________________________________________\n",
            "Layer (type)                 Output Shape              Param #   \n",
            "=================================================================\n",
            "input_4 (InputLayer)         [(None, 224, 224, 3)]     0         \n",
            "_________________________________________________________________\n",
            "conv1_pad (ZeroPadding2D)    (None, 225, 225, 3)       0         \n",
            "_________________________________________________________________\n",
            "conv1 (Conv2D)               (None, 112, 112, 32)      864       \n",
            "_________________________________________________________________\n",
            "conv1_bn (BatchNormalization (None, 112, 112, 32)      128       \n",
            "_________________________________________________________________\n",
            "conv1_relu (ReLU)            (None, 112, 112, 32)      0         \n",
            "_________________________________________________________________\n",
            "conv_dw_1 (DepthwiseConv2D)  (None, 112, 112, 32)      288       \n",
            "_________________________________________________________________\n",
            "conv_dw_1_bn (BatchNormaliza (None, 112, 112, 32)      128       \n",
            "_________________________________________________________________\n",
            "conv_dw_1_relu (ReLU)        (None, 112, 112, 32)      0         \n",
            "_________________________________________________________________\n",
            "conv_pw_1 (Conv2D)           (None, 112, 112, 64)      2048      \n",
            "_________________________________________________________________\n",
            "conv_pw_1_bn (BatchNormaliza (None, 112, 112, 64)      256       \n",
            "_________________________________________________________________\n",
            "conv_pw_1_relu (ReLU)        (None, 112, 112, 64)      0         \n",
            "_________________________________________________________________\n",
            "conv_pad_2 (ZeroPadding2D)   (None, 113, 113, 64)      0         \n",
            "_________________________________________________________________\n",
            "conv_dw_2 (DepthwiseConv2D)  (None, 56, 56, 64)        576       \n",
            "_________________________________________________________________\n",
            "conv_dw_2_bn (BatchNormaliza (None, 56, 56, 64)        256       \n",
            "_________________________________________________________________\n",
            "conv_dw_2_relu (ReLU)        (None, 56, 56, 64)        0         \n",
            "_________________________________________________________________\n",
            "conv_pw_2 (Conv2D)           (None, 56, 56, 128)       8192      \n",
            "_________________________________________________________________\n",
            "conv_pw_2_bn (BatchNormaliza (None, 56, 56, 128)       512       \n",
            "_________________________________________________________________\n",
            "conv_pw_2_relu (ReLU)        (None, 56, 56, 128)       0         \n",
            "_________________________________________________________________\n",
            "conv_dw_3 (DepthwiseConv2D)  (None, 56, 56, 128)       1152      \n",
            "_________________________________________________________________\n",
            "conv_dw_3_bn (BatchNormaliza (None, 56, 56, 128)       512       \n",
            "_________________________________________________________________\n",
            "conv_dw_3_relu (ReLU)        (None, 56, 56, 128)       0         \n",
            "_________________________________________________________________\n",
            "conv_pw_3 (Conv2D)           (None, 56, 56, 128)       16384     \n",
            "_________________________________________________________________\n",
            "conv_pw_3_bn (BatchNormaliza (None, 56, 56, 128)       512       \n",
            "_________________________________________________________________\n",
            "conv_pw_3_relu (ReLU)        (None, 56, 56, 128)       0         \n",
            "_________________________________________________________________\n",
            "conv_pad_4 (ZeroPadding2D)   (None, 57, 57, 128)       0         \n",
            "_________________________________________________________________\n",
            "conv_dw_4 (DepthwiseConv2D)  (None, 28, 28, 128)       1152      \n",
            "_________________________________________________________________\n",
            "conv_dw_4_bn (BatchNormaliza (None, 28, 28, 128)       512       \n",
            "_________________________________________________________________\n",
            "conv_dw_4_relu (ReLU)        (None, 28, 28, 128)       0         \n",
            "_________________________________________________________________\n",
            "conv_pw_4 (Conv2D)           (None, 28, 28, 256)       32768     \n",
            "_________________________________________________________________\n",
            "conv_pw_4_bn (BatchNormaliza (None, 28, 28, 256)       1024      \n",
            "_________________________________________________________________\n",
            "conv_pw_4_relu (ReLU)        (None, 28, 28, 256)       0         \n",
            "_________________________________________________________________\n",
            "conv_dw_5 (DepthwiseConv2D)  (None, 28, 28, 256)       2304      \n",
            "_________________________________________________________________\n",
            "conv_dw_5_bn (BatchNormaliza (None, 28, 28, 256)       1024      \n",
            "_________________________________________________________________\n",
            "conv_dw_5_relu (ReLU)        (None, 28, 28, 256)       0         \n",
            "_________________________________________________________________\n",
            "conv_pw_5 (Conv2D)           (None, 28, 28, 256)       65536     \n",
            "_________________________________________________________________\n",
            "conv_pw_5_bn (BatchNormaliza (None, 28, 28, 256)       1024      \n",
            "_________________________________________________________________\n",
            "conv_pw_5_relu (ReLU)        (None, 28, 28, 256)       0         \n",
            "_________________________________________________________________\n",
            "conv_pad_6 (ZeroPadding2D)   (None, 29, 29, 256)       0         \n",
            "_________________________________________________________________\n",
            "conv_dw_6 (DepthwiseConv2D)  (None, 14, 14, 256)       2304      \n",
            "_________________________________________________________________\n",
            "conv_dw_6_bn (BatchNormaliza (None, 14, 14, 256)       1024      \n",
            "_________________________________________________________________\n",
            "conv_dw_6_relu (ReLU)        (None, 14, 14, 256)       0         \n",
            "_________________________________________________________________\n",
            "conv_pw_6 (Conv2D)           (None, 14, 14, 512)       131072    \n",
            "_________________________________________________________________\n",
            "conv_pw_6_bn (BatchNormaliza (None, 14, 14, 512)       2048      \n",
            "_________________________________________________________________\n",
            "conv_pw_6_relu (ReLU)        (None, 14, 14, 512)       0         \n",
            "_________________________________________________________________\n",
            "conv_dw_7 (DepthwiseConv2D)  (None, 14, 14, 512)       4608      \n",
            "_________________________________________________________________\n",
            "conv_dw_7_bn (BatchNormaliza (None, 14, 14, 512)       2048      \n",
            "_________________________________________________________________\n",
            "conv_dw_7_relu (ReLU)        (None, 14, 14, 512)       0         \n",
            "_________________________________________________________________\n",
            "conv_pw_7 (Conv2D)           (None, 14, 14, 512)       262144    \n",
            "_________________________________________________________________\n",
            "conv_pw_7_bn (BatchNormaliza (None, 14, 14, 512)       2048      \n",
            "_________________________________________________________________\n",
            "conv_pw_7_relu (ReLU)        (None, 14, 14, 512)       0         \n",
            "_________________________________________________________________\n",
            "conv_dw_8 (DepthwiseConv2D)  (None, 14, 14, 512)       4608      \n",
            "_________________________________________________________________\n",
            "conv_dw_8_bn (BatchNormaliza (None, 14, 14, 512)       2048      \n",
            "_________________________________________________________________\n",
            "conv_dw_8_relu (ReLU)        (None, 14, 14, 512)       0         \n",
            "_________________________________________________________________\n",
            "conv_pw_8 (Conv2D)           (None, 14, 14, 512)       262144    \n",
            "_________________________________________________________________\n",
            "conv_pw_8_bn (BatchNormaliza (None, 14, 14, 512)       2048      \n",
            "_________________________________________________________________\n",
            "conv_pw_8_relu (ReLU)        (None, 14, 14, 512)       0         \n",
            "_________________________________________________________________\n",
            "conv_dw_9 (DepthwiseConv2D)  (None, 14, 14, 512)       4608      \n",
            "_________________________________________________________________\n",
            "conv_dw_9_bn (BatchNormaliza (None, 14, 14, 512)       2048      \n",
            "_________________________________________________________________\n",
            "conv_dw_9_relu (ReLU)        (None, 14, 14, 512)       0         \n",
            "_________________________________________________________________\n",
            "conv_pw_9 (Conv2D)           (None, 14, 14, 512)       262144    \n",
            "_________________________________________________________________\n",
            "conv_pw_9_bn (BatchNormaliza (None, 14, 14, 512)       2048      \n",
            "_________________________________________________________________\n",
            "conv_pw_9_relu (ReLU)        (None, 14, 14, 512)       0         \n",
            "_________________________________________________________________\n",
            "conv_dw_10 (DepthwiseConv2D) (None, 14, 14, 512)       4608      \n",
            "_________________________________________________________________\n",
            "conv_dw_10_bn (BatchNormaliz (None, 14, 14, 512)       2048      \n",
            "_________________________________________________________________\n",
            "conv_dw_10_relu (ReLU)       (None, 14, 14, 512)       0         \n",
            "_________________________________________________________________\n",
            "conv_pw_10 (Conv2D)          (None, 14, 14, 512)       262144    \n",
            "_________________________________________________________________\n",
            "conv_pw_10_bn (BatchNormaliz (None, 14, 14, 512)       2048      \n",
            "_________________________________________________________________\n",
            "conv_pw_10_relu (ReLU)       (None, 14, 14, 512)       0         \n",
            "_________________________________________________________________\n",
            "conv_dw_11 (DepthwiseConv2D) (None, 14, 14, 512)       4608      \n",
            "_________________________________________________________________\n",
            "conv_dw_11_bn (BatchNormaliz (None, 14, 14, 512)       2048      \n",
            "_________________________________________________________________\n",
            "conv_dw_11_relu (ReLU)       (None, 14, 14, 512)       0         \n",
            "_________________________________________________________________\n",
            "conv_pw_11 (Conv2D)          (None, 14, 14, 512)       262144    \n",
            "_________________________________________________________________\n",
            "conv_pw_11_bn (BatchNormaliz (None, 14, 14, 512)       2048      \n",
            "_________________________________________________________________\n",
            "conv_pw_11_relu (ReLU)       (None, 14, 14, 512)       0         \n",
            "_________________________________________________________________\n",
            "conv_pad_12 (ZeroPadding2D)  (None, 15, 15, 512)       0         \n",
            "_________________________________________________________________\n",
            "conv_dw_12 (DepthwiseConv2D) (None, 7, 7, 512)         4608      \n",
            "_________________________________________________________________\n",
            "conv_dw_12_bn (BatchNormaliz (None, 7, 7, 512)         2048      \n",
            "_________________________________________________________________\n",
            "conv_dw_12_relu (ReLU)       (None, 7, 7, 512)         0         \n",
            "_________________________________________________________________\n",
            "conv_pw_12 (Conv2D)          (None, 7, 7, 1024)        524288    \n",
            "_________________________________________________________________\n",
            "conv_pw_12_bn (BatchNormaliz (None, 7, 7, 1024)        4096      \n",
            "_________________________________________________________________\n",
            "conv_pw_12_relu (ReLU)       (None, 7, 7, 1024)        0         \n",
            "_________________________________________________________________\n",
            "conv_dw_13 (DepthwiseConv2D) (None, 7, 7, 1024)        9216      \n",
            "_________________________________________________________________\n",
            "conv_dw_13_bn (BatchNormaliz (None, 7, 7, 1024)        4096      \n",
            "_________________________________________________________________\n",
            "conv_dw_13_relu (ReLU)       (None, 7, 7, 1024)        0         \n",
            "_________________________________________________________________\n",
            "conv_pw_13 (Conv2D)          (None, 7, 7, 1024)        1048576   \n",
            "_________________________________________________________________\n",
            "conv_pw_13_bn (BatchNormaliz (None, 7, 7, 1024)        4096      \n",
            "_________________________________________________________________\n",
            "conv_pw_13_relu (ReLU)       (None, 7, 7, 1024)        0         \n",
            "_________________________________________________________________\n",
            "flatten_2 (Flatten)          (None, 50176)             0         \n",
            "_________________________________________________________________\n",
            "dense_4 (Dense)              (None, 2)                 100354    \n",
            "=================================================================\n",
            "Total params: 3,329,218\n",
            "Trainable params: 100,354\n",
            "Non-trainable params: 3,228,864\n",
            "_________________________________________________________________\n"
          ],
          "name": "stdout"
        }
      ]
    },
    {
      "cell_type": "code",
      "metadata": {
        "id": "xpxdIgAhIFFj",
        "colab_type": "code",
        "colab": {}
      },
      "source": [
        "model.compile(\n",
        "    optimizer='adam',\n",
        "    loss='categorical_crossentropy',\n",
        "    metrics='accuracy'\n",
        ")"
      ],
      "execution_count": 131,
      "outputs": []
    },
    {
      "cell_type": "code",
      "metadata": {
        "id": "6OSxN9bcI2kA",
        "colab_type": "code",
        "colab": {}
      },
      "source": [
        "train_datagen = ImageDataGenerator(rescale = 1./255,\n",
        "                                   shear_range = 0.2,\n",
        "                                   zoom_range = 0.2,\n",
        "                                   horizontal_flip = True)\n",
        "\n",
        "test_datagen = ImageDataGenerator(rescale = 1./255)"
      ],
      "execution_count": 132,
      "outputs": []
    },
    {
      "cell_type": "code",
      "metadata": {
        "id": "Km7RoYKXJMHj",
        "colab_type": "code",
        "colab": {
          "base_uri": "https://localhost:8080/",
          "height": 34
        },
        "outputId": "4ca57bc8-ea92-4bf6-b211-3a9c561754ac"
      },
      "source": [
        "training_set = train_datagen.flow_from_directory(train_path,\n",
        "                                                 target_size = (224, 224),\n",
        "                                                 batch_size = 32,\n",
        "                                                 class_mode = 'categorical')"
      ],
      "execution_count": 133,
      "outputs": [
        {
          "output_type": "stream",
          "text": [
            "Found 416 images belonging to 2 classes.\n"
          ],
          "name": "stdout"
        }
      ]
    },
    {
      "cell_type": "code",
      "metadata": {
        "id": "jbEHZAtrJRcj",
        "colab_type": "code",
        "colab": {
          "base_uri": "https://localhost:8080/",
          "height": 34
        },
        "outputId": "2e232216-ea9d-4613-cd88-61bea62735d5"
      },
      "source": [
        "test_set = test_datagen.flow_from_directory(valid_path,\n",
        "                                            target_size = (224, 224),\n",
        "                                            batch_size = 32,\n",
        "                                            class_mode = 'categorical')"
      ],
      "execution_count": 134,
      "outputs": [
        {
          "output_type": "stream",
          "text": [
            "Found 134 images belonging to 2 classes.\n"
          ],
          "name": "stdout"
        }
      ]
    },
    {
      "cell_type": "code",
      "metadata": {
        "id": "zH6b6T_dJYfx",
        "colab_type": "code",
        "colab": {
          "base_uri": "https://localhost:8080/",
          "height": 867
        },
        "outputId": "d34d25dc-388b-4300-9ebb-ca7abc642cb8"
      },
      "source": [
        "r = model.fit_generator(\n",
        "  training_set,\n",
        "  validation_data=test_set,\n",
        "  epochs=25,\n",
        "  steps_per_epoch=len(training_set),\n",
        "  validation_steps=len(test_set)\n",
        ")"
      ],
      "execution_count": 135,
      "outputs": [
        {
          "output_type": "stream",
          "text": [
            "Epoch 1/25\n",
            "13/13 [==============================] - 7s 522ms/step - loss: 6.7369 - accuracy: 0.6683 - val_loss: 0.7081 - val_accuracy: 0.9030\n",
            "Epoch 2/25\n",
            "13/13 [==============================] - 7s 508ms/step - loss: 1.4446 - accuracy: 0.8822 - val_loss: 0.7607 - val_accuracy: 0.9478\n",
            "Epoch 3/25\n",
            "13/13 [==============================] - 6s 465ms/step - loss: 0.4520 - accuracy: 0.9543 - val_loss: 0.5060 - val_accuracy: 0.9478\n",
            "Epoch 4/25\n",
            "13/13 [==============================] - 6s 469ms/step - loss: 0.2796 - accuracy: 0.9639 - val_loss: 0.2584 - val_accuracy: 0.9776\n",
            "Epoch 5/25\n",
            "13/13 [==============================] - 6s 466ms/step - loss: 0.1034 - accuracy: 0.9784 - val_loss: 0.4957 - val_accuracy: 0.9701\n",
            "Epoch 6/25\n",
            "13/13 [==============================] - 6s 459ms/step - loss: 0.1564 - accuracy: 0.9736 - val_loss: 0.2426 - val_accuracy: 0.9701\n",
            "Epoch 7/25\n",
            "13/13 [==============================] - 6s 459ms/step - loss: 0.0955 - accuracy: 0.9856 - val_loss: 0.2046 - val_accuracy: 0.9851\n",
            "Epoch 8/25\n",
            "13/13 [==============================] - 6s 457ms/step - loss: 0.1833 - accuracy: 0.9688 - val_loss: 0.3523 - val_accuracy: 0.9701\n",
            "Epoch 9/25\n",
            "13/13 [==============================] - 6s 452ms/step - loss: 0.0473 - accuracy: 0.9880 - val_loss: 0.1728 - val_accuracy: 0.9851\n",
            "Epoch 10/25\n",
            "13/13 [==============================] - 6s 454ms/step - loss: 0.3075 - accuracy: 0.9567 - val_loss: 0.3110 - val_accuracy: 0.9328\n",
            "Epoch 11/25\n",
            "13/13 [==============================] - 6s 467ms/step - loss: 0.1328 - accuracy: 0.9832 - val_loss: 0.2138 - val_accuracy: 0.9776\n",
            "Epoch 12/25\n",
            "13/13 [==============================] - 6s 461ms/step - loss: 0.0941 - accuracy: 0.9784 - val_loss: 0.3937 - val_accuracy: 0.9701\n",
            "Epoch 13/25\n",
            "13/13 [==============================] - 6s 480ms/step - loss: 0.0338 - accuracy: 0.9928 - val_loss: 0.3013 - val_accuracy: 0.9776\n",
            "Epoch 14/25\n",
            "13/13 [==============================] - 6s 462ms/step - loss: 0.0269 - accuracy: 0.9928 - val_loss: 0.2139 - val_accuracy: 0.9851\n",
            "Epoch 15/25\n",
            "13/13 [==============================] - 6s 459ms/step - loss: 0.0415 - accuracy: 0.9880 - val_loss: 0.7704 - val_accuracy: 0.9627\n",
            "Epoch 16/25\n",
            "13/13 [==============================] - 6s 454ms/step - loss: 0.2614 - accuracy: 0.9688 - val_loss: 0.7411 - val_accuracy: 0.9552\n",
            "Epoch 17/25\n",
            "13/13 [==============================] - 6s 458ms/step - loss: 0.2532 - accuracy: 0.9663 - val_loss: 0.3052 - val_accuracy: 0.9851\n",
            "Epoch 18/25\n",
            "13/13 [==============================] - 6s 457ms/step - loss: 0.1330 - accuracy: 0.9880 - val_loss: 0.2661 - val_accuracy: 0.9851\n",
            "Epoch 19/25\n",
            "13/13 [==============================] - 6s 466ms/step - loss: 0.0841 - accuracy: 0.9856 - val_loss: 0.3093 - val_accuracy: 0.9851\n",
            "Epoch 20/25\n",
            "13/13 [==============================] - 6s 459ms/step - loss: 0.0502 - accuracy: 0.9928 - val_loss: 0.3087 - val_accuracy: 0.9701\n",
            "Epoch 21/25\n",
            "13/13 [==============================] - 6s 459ms/step - loss: 0.0368 - accuracy: 0.9904 - val_loss: 0.4897 - val_accuracy: 0.9776\n",
            "Epoch 22/25\n",
            "13/13 [==============================] - 6s 462ms/step - loss: 0.0573 - accuracy: 0.9928 - val_loss: 0.2689 - val_accuracy: 0.9851\n",
            "Epoch 23/25\n",
            "13/13 [==============================] - 6s 463ms/step - loss: 0.0267 - accuracy: 0.9952 - val_loss: 0.3235 - val_accuracy: 0.9851\n",
            "Epoch 24/25\n",
            "13/13 [==============================] - 6s 459ms/step - loss: 0.0145 - accuracy: 0.9952 - val_loss: 0.2722 - val_accuracy: 0.9776\n",
            "Epoch 25/25\n",
            "13/13 [==============================] - 6s 464ms/step - loss: 0.0462 - accuracy: 0.9880 - val_loss: 0.5754 - val_accuracy: 0.9701\n"
          ],
          "name": "stdout"
        }
      ]
    },
    {
      "cell_type": "code",
      "metadata": {
        "id": "eYyE7DOHJsmf",
        "colab_type": "code",
        "colab": {
          "base_uri": "https://localhost:8080/",
          "height": 267
        },
        "outputId": "28e0de35-6c1f-4032-da05-81add225ad73"
      },
      "source": [
        "plt.plot(r.history['loss'], label='train loss')\n",
        "plt.plot(r.history['val_loss'], label='val_loss')\n",
        "plt.legend()\n",
        "plt.show()"
      ],
      "execution_count": 136,
      "outputs": [
        {
          "output_type": "display_data",
          "data": {
            "image/png": "[encoded data removed]",
            "text/plain": [
              "<Figure size 432x288 with 1 Axes>"
            ]
          },
          "metadata": {
            "tags": [],
            "needs_background": "light"
          }
        }
      ]
    },
    {
      "cell_type": "code",
      "metadata": {
        "id": "srSxgSFiNjB5",
        "colab_type": "code",
        "colab": {
          "base_uri": "https://localhost:8080/",
          "height": 265
        },
        "outputId": "23276785-21e3-4cf5-96cc-a9aceaafaf54"
      },
      "source": [
        "plt.plot(r.history['accuracy'], label='train accuracy')\n",
        "plt.plot(r.history['val_accuracy'], label='val_accuracy')\n",
        "plt.legend()\n",
        "plt.show()"
      ],
      "execution_count": 137,
      "outputs": [
        {
          "output_type": "display_data",
          "data": {
            "image/png": "[encoded data removed]",
            "text/plain": [
              "<Figure size 432x288 with 1 Axes>"
            ]
          },
          "metadata": {
            "tags": [],
            "needs_background": "light"
          }
        }
      ]
    },
    {
      "cell_type": "code",
      "metadata": {
        "id": "vwqUYcr4NrkW",
        "colab_type": "code",
        "colab": {}
      },
      "source": [
        "model.save('malaria_mobilenet.h5')"
      ],
      "execution_count": 139,
      "outputs": []
    },
    {
      "cell_type": "code",
      "metadata": {
        "id": "YTCBlFyta3A1",
        "colab_type": "code",
        "colab": {}
      },
      "source": [
        "y_pred = model.predict(test_set)"
      ],
      "execution_count": 140,
      "outputs": []
    },
    {
      "cell_type": "code",
      "metadata": {
        "id": "erV8oqhRk8zd",
        "colab_type": "code",
        "colab": {
          "base_uri": "https://localhost:8080/",
          "height": 1000
        },
        "outputId": "8a7ceeee-7afa-47ae-ebd4-cca00340ed94"
      },
      "source": [
        "y_pred"
      ],
      "execution_count": 141,
      "outputs": [
        {
          "output_type": "execute_result",
          "data": {
            "text/plain": [
              "array([[1.00000000e+00, 4.63038870e-33],\n",
              "       [5.29906035e-16, 1.00000000e+00],\n",
              "       [1.00000000e+00, 0.00000000e+00],\n",
              "       [3.19029707e-23, 1.00000000e+00],\n",
              "       [1.00000000e+00, 0.00000000e+00],\n",
              "       [1.00000000e+00, 6.43522718e-35],\n",
              "       [1.00000000e+00, 5.04835548e-11],\n",
              "       [1.00000000e+00, 1.42598313e-24],\n",
              "       [1.00000000e+00, 0.00000000e+00],\n",
              "       [1.00000000e+00, 4.53817581e-27],\n",
              "       [1.00000000e+00, 0.00000000e+00],\n",
              "       [3.03391920e-04, 9.99696612e-01],\n",
              "       [9.43274081e-01, 5.67259416e-02],\n",
              "       [1.00000000e+00, 0.00000000e+00],\n",
              "       [9.95648324e-01, 4.35167085e-03],\n",
              "       [1.00000000e+00, 2.01737098e-27],\n",
              "       [1.30027244e-02, 9.86997247e-01],\n",
              "       [1.00000000e+00, 0.00000000e+00],\n",
              "       [2.59540594e-15, 1.00000000e+00],\n",
              "       [3.15142704e-12, 1.00000000e+00],\n",
              "       [1.00000000e+00, 1.16950562e-24],\n",
              "       [1.00000000e+00, 0.00000000e+00],\n",
              "       [1.00000000e+00, 4.00132938e-16],\n",
              "       [9.99420166e-01, 5.79896092e-04],\n",
              "       [1.00000000e+00, 0.00000000e+00],\n",
              "       [4.11947148e-24, 1.00000000e+00],\n",
              "       [1.00000000e+00, 5.18736118e-37],\n",
              "       [1.00000000e+00, 8.60244896e-21],\n",
              "       [1.00000000e+00, 3.06062311e-14],\n",
              "       [1.00000000e+00, 3.14025132e-14],\n",
              "       [1.00000000e+00, 3.18182698e-30],\n",
              "       [1.00000000e+00, 2.81642826e-14],\n",
              "       [5.65585732e-01, 4.34414238e-01],\n",
              "       [5.83000866e-17, 1.00000000e+00],\n",
              "       [4.07725678e-18, 1.00000000e+00],\n",
              "       [7.20539682e-23, 1.00000000e+00],\n",
              "       [7.63899435e-19, 1.00000000e+00],\n",
              "       [5.08197683e-18, 1.00000000e+00],\n",
              "       [1.00000000e+00, 0.00000000e+00],\n",
              "       [5.17119749e-23, 1.00000000e+00],\n",
              "       [1.00000000e+00, 8.46665351e-22],\n",
              "       [1.27533942e-10, 1.00000000e+00],\n",
              "       [1.51235422e-19, 1.00000000e+00],\n",
              "       [1.00000000e+00, 7.37333127e-26],\n",
              "       [1.00000000e+00, 1.03267525e-25],\n",
              "       [1.00000000e+00, 1.25255647e-20],\n",
              "       [1.00000000e+00, 2.68281669e-20],\n",
              "       [1.20269293e-14, 1.00000000e+00],\n",
              "       [2.05945539e-17, 1.00000000e+00],\n",
              "       [1.00000000e+00, 1.25154901e-27],\n",
              "       [1.00000000e+00, 1.94867786e-25],\n",
              "       [1.00000000e+00, 2.62303698e-22],\n",
              "       [1.00000000e+00, 8.49972829e-29],\n",
              "       [1.00000000e+00, 1.06288872e-28],\n",
              "       [2.30762586e-16, 1.00000000e+00],\n",
              "       [2.22494379e-16, 1.00000000e+00],\n",
              "       [6.57684775e-24, 1.00000000e+00],\n",
              "       [1.00000000e+00, 4.66438684e-35],\n",
              "       [1.00000000e+00, 4.69074996e-24],\n",
              "       [1.00000000e+00, 1.93251622e-19],\n",
              "       [1.00000000e+00, 0.00000000e+00],\n",
              "       [1.00000000e+00, 1.25196255e-15],\n",
              "       [1.00000000e+00, 4.14860088e-23],\n",
              "       [2.45848758e-10, 1.00000000e+00],\n",
              "       [1.00000000e+00, 1.24590235e-15],\n",
              "       [1.00000000e+00, 1.33738988e-19],\n",
              "       [1.00000000e+00, 8.21273070e-24],\n",
              "       [1.00000000e+00, 0.00000000e+00],\n",
              "       [1.00000000e+00, 1.57435654e-21],\n",
              "       [2.27867910e-17, 1.00000000e+00],\n",
              "       [1.00000000e+00, 3.42778408e-31],\n",
              "       [1.00000000e+00, 8.02913438e-37],\n",
              "       [1.00000000e+00, 2.66806827e-28],\n",
              "       [1.00000000e+00, 1.15458777e-34],\n",
              "       [2.85990190e-18, 1.00000000e+00],\n",
              "       [3.26390425e-19, 1.00000000e+00],\n",
              "       [1.00000000e+00, 1.44253491e-22],\n",
              "       [1.00000000e+00, 1.13278314e-19],\n",
              "       [1.85980361e-17, 1.00000000e+00],\n",
              "       [1.00000000e+00, 0.00000000e+00],\n",
              "       [1.00000000e+00, 3.78019823e-38],\n",
              "       [1.00000000e+00, 1.97587621e-36],\n",
              "       [1.00000000e+00, 6.88855541e-18],\n",
              "       [1.00000000e+00, 4.26149604e-28],\n",
              "       [1.00000000e+00, 0.00000000e+00],\n",
              "       [1.00000000e+00, 3.70127624e-30],\n",
              "       [5.14891525e-08, 1.00000000e+00],\n",
              "       [1.00000000e+00, 1.51638419e-37],\n",
              "       [9.99990463e-01, 9.55591167e-06],\n",
              "       [9.37066773e-07, 9.99999046e-01],\n",
              "       [5.97112681e-19, 1.00000000e+00],\n",
              "       [1.00000000e+00, 0.00000000e+00],\n",
              "       [8.50525717e-18, 1.00000000e+00],\n",
              "       [1.00000000e+00, 1.84179229e-18],\n",
              "       [1.00000000e+00, 0.00000000e+00],\n",
              "       [1.22118000e-15, 1.00000000e+00],\n",
              "       [7.26301583e-16, 1.00000000e+00],\n",
              "       [1.00000000e+00, 0.00000000e+00],\n",
              "       [1.00000000e+00, 0.00000000e+00],\n",
              "       [1.00000000e+00, 5.89764838e-33],\n",
              "       [1.00000000e+00, 1.66563903e-21],\n",
              "       [1.75716129e-19, 1.00000000e+00],\n",
              "       [1.00000000e+00, 1.81415019e-34],\n",
              "       [1.00000000e+00, 5.22645026e-30],\n",
              "       [3.03624595e-31, 1.00000000e+00],\n",
              "       [1.36126440e-16, 1.00000000e+00],\n",
              "       [1.00000000e+00, 1.28067253e-33],\n",
              "       [1.00000000e+00, 1.41175329e-32],\n",
              "       [1.00000000e+00, 2.17046953e-24],\n",
              "       [1.00000000e+00, 0.00000000e+00],\n",
              "       [5.59362025e-14, 1.00000000e+00],\n",
              "       [2.15611749e-06, 9.99997854e-01],\n",
              "       [1.00000000e+00, 0.00000000e+00],\n",
              "       [2.56991694e-24, 1.00000000e+00],\n",
              "       [2.07755115e-11, 1.00000000e+00],\n",
              "       [1.00000000e+00, 6.29193035e-22],\n",
              "       [1.00000000e+00, 0.00000000e+00],\n",
              "       [1.00000000e+00, 2.03362725e-20],\n",
              "       [1.55056634e-10, 1.00000000e+00],\n",
              "       [9.95740687e-23, 1.00000000e+00],\n",
              "       [2.01640258e-26, 1.00000000e+00],\n",
              "       [1.00000000e+00, 9.39488789e-30],\n",
              "       [4.80580185e-23, 1.00000000e+00],\n",
              "       [1.00000000e+00, 0.00000000e+00],\n",
              "       [5.06438280e-19, 1.00000000e+00],\n",
              "       [3.24850836e-15, 1.00000000e+00],\n",
              "       [1.00000000e+00, 2.09054352e-09],\n",
              "       [1.00000000e+00, 0.00000000e+00],\n",
              "       [1.77455586e-17, 1.00000000e+00],\n",
              "       [1.00000000e+00, 4.24512467e-28],\n",
              "       [1.00000000e+00, 7.61588785e-35],\n",
              "       [1.95405234e-25, 1.00000000e+00],\n",
              "       [1.01470714e-20, 1.00000000e+00],\n",
              "       [1.00000000e+00, 0.00000000e+00]], dtype=float32)"
            ]
          },
          "metadata": {
            "tags": []
          },
          "execution_count": 141
        }
      ]
    },
    {
      "cell_type": "code",
      "metadata": {
        "id": "anJVsrS9k_IJ",
        "colab_type": "code",
        "colab": {
          "base_uri": "https://localhost:8080/",
          "height": 136
        },
        "outputId": "0635ebfb-4b5b-446f-ab1d-86360028ad92"
      },
      "source": [
        "y_pred = np.argmax(y_pred, axis=1)\n",
        "y_pred"
      ],
      "execution_count": 142,
      "outputs": [
        {
          "output_type": "execute_result",
          "data": {
            "text/plain": [
              "array([0, 1, 0, 1, 0, 0, 0, 0, 0, 0, 0, 1, 0, 0, 0, 0, 1, 0, 1, 1, 0, 0,\n",
              "       0, 0, 0, 1, 0, 0, 0, 0, 0, 0, 0, 1, 1, 1, 1, 1, 0, 1, 0, 1, 1, 0,\n",
              "       0, 0, 0, 1, 1, 0, 0, 0, 0, 0, 1, 1, 1, 0, 0, 0, 0, 0, 0, 1, 0, 0,\n",
              "       0, 0, 0, 1, 0, 0, 0, 0, 1, 1, 0, 0, 1, 0, 0, 0, 0, 0, 0, 0, 1, 0,\n",
              "       0, 1, 1, 0, 1, 0, 0, 1, 1, 0, 0, 0, 0, 1, 0, 0, 1, 1, 0, 0, 0, 0,\n",
              "       1, 1, 0, 1, 1, 0, 0, 0, 1, 1, 1, 0, 1, 0, 1, 1, 0, 0, 1, 0, 0, 1,\n",
              "       1, 0])"
            ]
          },
          "metadata": {
            "tags": []
          },
          "execution_count": 142
        }
      ]
    },
    {
      "cell_type": "markdown",
      "metadata": {
        "id": "L_2-oWnsmQ7z",
        "colab_type": "text"
      },
      "source": [
        "##Testing on Images"
      ]
    },
    {
      "cell_type": "code",
      "metadata": {
        "id": "fmJ-CKbjmVFz",
        "colab_type": "code",
        "colab": {}
      },
      "source": [
        "from tensorflow.keras.preprocessing import image\n",
        "from tensorflow.keras.models import load_model"
      ],
      "execution_count": 143,
      "outputs": []
    },
    {
      "cell_type": "code",
      "metadata": {
        "id": "FfL-QnPcmdac",
        "colab_type": "code",
        "colab": {}
      },
      "source": [
        "model = load_model('malaria_mobilenet.h5')"
      ],
      "execution_count": 149,
      "outputs": []
    },
    {
      "cell_type": "code",
      "metadata": {
        "id": "M1Bh8tQ0mkHR",
        "colab_type": "code",
        "colab": {}
      },
      "source": [
        "img = image.load_img(r'/content/drive/My Drive/malariadataset/Test/Parasite/C39P4thinF_original_IMG_20150622_105803_cell_87.png',target_size=(224,224))"
      ],
      "execution_count": 150,
      "outputs": []
    },
    {
      "cell_type": "code",
      "metadata": {
        "id": "5OJtWfgrm7uW",
        "colab_type": "code",
        "colab": {
          "base_uri": "https://localhost:8080/",
          "height": 850
        },
        "outputId": "810aa79a-3ded-44eb-971c-56942786d3e7"
      },
      "source": [
        "img = image.img_to_array(img)\n",
        "img"
      ],
      "execution_count": 151,
      "outputs": [
        {
          "output_type": "execute_result",
          "data": {
            "text/plain": [
              "array([[[0., 0., 0.],\n",
              "        [0., 0., 0.],\n",
              "        [0., 0., 0.],\n",
              "        ...,\n",
              "        [0., 0., 0.],\n",
              "        [0., 0., 0.],\n",
              "        [0., 0., 0.]],\n",
              "\n",
              "       [[0., 0., 0.],\n",
              "        [0., 0., 0.],\n",
              "        [0., 0., 0.],\n",
              "        ...,\n",
              "        [0., 0., 0.],\n",
              "        [0., 0., 0.],\n",
              "        [0., 0., 0.]],\n",
              "\n",
              "       [[0., 0., 0.],\n",
              "        [0., 0., 0.],\n",
              "        [0., 0., 0.],\n",
              "        ...,\n",
              "        [0., 0., 0.],\n",
              "        [0., 0., 0.],\n",
              "        [0., 0., 0.]],\n",
              "\n",
              "       ...,\n",
              "\n",
              "       [[0., 0., 0.],\n",
              "        [0., 0., 0.],\n",
              "        [0., 0., 0.],\n",
              "        ...,\n",
              "        [0., 0., 0.],\n",
              "        [0., 0., 0.],\n",
              "        [0., 0., 0.]],\n",
              "\n",
              "       [[0., 0., 0.],\n",
              "        [0., 0., 0.],\n",
              "        [0., 0., 0.],\n",
              "        ...,\n",
              "        [0., 0., 0.],\n",
              "        [0., 0., 0.],\n",
              "        [0., 0., 0.]],\n",
              "\n",
              "       [[0., 0., 0.],\n",
              "        [0., 0., 0.],\n",
              "        [0., 0., 0.],\n",
              "        ...,\n",
              "        [0., 0., 0.],\n",
              "        [0., 0., 0.],\n",
              "        [0., 0., 0.]]], dtype=float32)"
            ]
          },
          "metadata": {
            "tags": []
          },
          "execution_count": 151
        }
      ]
    },
    {
      "cell_type": "code",
      "metadata": {
        "id": "wTkOWcE9msCK",
        "colab_type": "code",
        "colab": {}
      },
      "source": [
        "img = img/255 #as we have rescaled our test set"
      ],
      "execution_count": 152,
      "outputs": []
    },
    {
      "cell_type": "code",
      "metadata": {
        "id": "pjIBzJpcm0ZM",
        "colab_type": "code",
        "colab": {
          "base_uri": "https://localhost:8080/",
          "height": 34
        },
        "outputId": "57d2fda7-83b1-44a2-c35d-6be48f18973a"
      },
      "source": [
        "img = np.expand_dims(img, axis=0)\n",
        "img = preprocess_input(img)\n",
        "img.shape"
      ],
      "execution_count": 153,
      "outputs": [
        {
          "output_type": "execute_result",
          "data": {
            "text/plain": [
              "(1, 224, 224, 3)"
            ]
          },
          "metadata": {
            "tags": []
          },
          "execution_count": 153
        }
      ]
    },
    {
      "cell_type": "code",
      "metadata": {
        "id": "0Zq8ouN6nx1P",
        "colab_type": "code",
        "colab": {
          "base_uri": "https://localhost:8080/",
          "height": 34
        },
        "outputId": "e41cacfe-b535-4f03-c279-1ddfcb48d019"
      },
      "source": [
        "model.predict(img)"
      ],
      "execution_count": 154,
      "outputs": [
        {
          "output_type": "execute_result",
          "data": {
            "text/plain": [
              "array([[0.88796085, 0.1120391 ]], dtype=float32)"
            ]
          },
          "metadata": {
            "tags": []
          },
          "execution_count": 154
        }
      ]
    },
    {
      "cell_type": "code",
      "metadata": {
        "id": "yZ_LVOgnn5I6",
        "colab_type": "code",
        "colab": {
          "base_uri": "https://localhost:8080/",
          "height": 34
        },
        "outputId": "90d0cf23-4023-4c32-a991-b64c10c903c6"
      },
      "source": [
        "a = np.argmax(model.predict(img),axis=1)\n",
        "if a==0:\n",
        "  print('Infected')\n",
        "elif a==1:\n",
        "  print('Uninfected')"
      ],
      "execution_count": 155,
      "outputs": [
        {
          "output_type": "stream",
          "text": [
            "Infected\n"
          ],
          "name": "stdout"
        }
      ]
    },
    {
      "cell_type": "code",
      "metadata": {
        "id": "vZ_tOsixoKT6",
        "colab_type": "code",
        "colab": {}
      },
      "source": [
        ""
      ],
      "execution_count": null,
      "outputs": []
    }
  ]
}